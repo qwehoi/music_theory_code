def generate_chord_v3(root, chord_base, extensions=None, bass=None):
    """
    生成和弦信息，包括根音、和弦類型、延伸音和低音，並加入音程概念。

    :param root: 根音 (e.g., 'C', 'Db', 'F#')
    :param chord_base: 和弦基本類型 (e.g., 'maj', 'min', 'dim')
    :param extensions: 延伸音 (e.g., ['7', 'b9'])
    :param bass: 和弦低音 (e.g., 'E', 'Ab')
    :return: 和弦信息字典
    """
    sharp_scale = ['C', 'C#', 'D', 'D#', 'E', 'F', 'F#', 'G', 'G#', 'A', 'A#', 'B']
    flat_scale = ['C', 'Db', 'D', 'Eb', 'E', 'F', 'Gb', 'G', 'Ab', 'A', 'Bb', 'B']
    enharmonics = {**dict(zip(flat_scale, sharp_scale)), **dict(zip(sharp_scale, flat_scale))}

    intervals_map = {
        0: '1', 1: 'b2', 2: '2', 3: 'b3', 4: '3', 5: '4', 6: 'b5', 7: '5',
        8: '#5', 9: '6', 10: 'b7', 11: '7', 12: '8'
    }

    extension_intervals = {
        "b9": 13, "9": 14, "#9": 15, "11": 17,
        "#11": 18, "b13": 20, "13": 21, "#13": 22, "+5": 8, "-5": 6
    }

    chord_definitions = {
        "maj": {"intervals": [0, 4, 7], "a.k.a.": ["major", "Maj"]},
        "min": {"intervals": [0, 3, 7], "a.k.a.": ["minor", "Min", "-"]},
        "dim": {"intervals": [0, 3, 6], "a.k.a.": ["diminished", "Dim"]},
        "aug": {"intervals": [0, 4, 8], "a.k.a.": ["augmented", "Aug"]},
        "sus2": {"intervals": [0, 2, 7], "a.k.a.": ["suspended second", "Sus2"]},
        "sus4": {"intervals": [0, 5, 7], "a.k.a.": ["suspended fourth", "Sus4"]},
        "7": {"intervals": [0, 4, 7, 10], "a.k.a.": ["dominant seventh", "Dom"]},
        "maj7":{"intervals": [0, 4, 7, 11], "a.k.a.": ["major seventh", "M7"]},
        "min7":{"intervals": [0, 3, 7, 10], "a.k.a.": ["minor seventh", "m7"]},
    }

    def get_note_idx(note, prefer_flat=False):
        scale = flat_scale if prefer_flat else sharp_scale
        if note not in scale:
            raise ValueError(f"Unsupported note: {note}")
        return scale.index(note)

    def get_note_by_steps(start_idx, steps, prefer_flat=False):
        scale = flat_scale if prefer_flat else sharp_scale
        return scale[(start_idx + steps) % 12]

    if chord_base not in chord_definitions:
        raise ValueError(f"Unsupported chord type: {chord_base}")

    prefer_flat = 'b' in root or any('b' in ext for ext in (extensions or []))
    root_idx = get_note_idx(root, prefer_flat)

    base_intervals = chord_definitions[chord_base]["intervals"]
    all_intervals = base_intervals[:]

    if extensions:
        for ext in extensions:
            if ext in extension_intervals:
                if ext == "-5":
                    # Replace the perfect 5th with a diminished 5th
                    all_intervals = [iv for iv in all_intervals if iv != 7]
                elif ext == "+5":
                    # Replace the perfect 5th with an augmented 5th
                    all_intervals = [iv for iv in all_intervals if iv != 7]
                all_intervals.append(extension_intervals[ext])
            else:
                raise ValueError(f"Unsupported extension: {ext}")

    all_intervals = sorted(set(all_intervals))

    notes = [get_note_by_steps(root_idx, step, prefer_flat) for step in all_intervals]
    intervals = [intervals_map[step % 12] for step in all_intervals]

    if bass:
        bass_idx = get_note_idx(bass, prefer_flat)
        bass_note = get_note_by_steps(bass_idx, 0, prefer_flat)
        notes = [bass_note] + [note for note in notes if note != bass_note]

    # 計算半音距離
    half_steps = [all_intervals[i] - all_intervals[i - 1] if i > 0 else all_intervals[i] for i in range(len(all_intervals))]

    a_k_a_list = [f"{root}{chord_base}{' '.join(extensions or [])}"] + chord_definitions[chord_base]["a.k.a."]
    if chord_base == "maj" and not extensions:
        a_k_a_list.append(root)  # Add root name for Cmaj as an example

    return {
        "root": root,
        "chord_type": chord_base,
        "a.k.a.": a_k_a_list,
        "extensions": extensions or [],
        "bass": bass,
        "notes": notes,
        "intervals": intervals,
        "half_steps": half_steps
    }

# 測試生成和弦
examples = [
    ("A", "min", ["11"], None),
    ("F#", "7", None, None),
    ("Db", "maj", None, "Ab"),
    ("C", "maj7", ["+5"], None),
    ("G", "min", ["-5", "b9"], "D"),
    ("G", "maj", ["-5"], None),
    ("C", "maj", None, None)
]

for root, chord_base, extensions, bass in examples:
    try:
        chord = generate_chord_v3(root, chord_base, extensions, bass)
        formatted_intervals = ",".join(chord["intervals"])
        formatted_half_steps = "-".join(map(str, chord["half_steps"]))
        print(f"{root} {chord_base}{' '.join(chord['extensions']) if chord['extensions'] else ''}")
        print(f"a.k.a.:     {', '.join(chord['a.k.a.'])}")
        print(f"intervals:  {formatted_intervals}")
        print(f"half-steps: {formatted_half_steps}")
        print(f"notes:      {', '.join(chord['notes'])}\n")
    except Exception as e:
        print(f"Error: {e}")
