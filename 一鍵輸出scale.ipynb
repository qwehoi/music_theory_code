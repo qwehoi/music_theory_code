{
  "nbformat": 4,
  "nbformat_minor": 0,
  "metadata": {
    "colab": {
      "provenance": [],
      "authorship_tag": "ABX9TyPoJljaE0YRtqVdBZMtQjfV",
      "include_colab_link": true
    },
    "kernelspec": {
      "name": "python3",
      "display_name": "Python 3"
    },
    "language_info": {
      "name": "python"
    }
  },
  "cells": [
    {
      "cell_type": "markdown",
      "metadata": {
        "id": "view-in-github",
        "colab_type": "text"
      },
      "source": [
        "<a href=\"https://colab.research.google.com/github/qwehoi/music_theory_code/blob/main/%E4%B8%80%E9%8D%B5%E8%BC%B8%E5%87%BAscale.ipynb\" target=\"_parent\"><img src=\"https://colab.research.google.com/assets/colab-badge.svg\" alt=\"Open In Colab\"/></a>"
      ]
    },
    {
      "cell_type": "code",
      "execution_count": 3,
      "metadata": {
        "colab": {
          "base_uri": "https://localhost:8080/"
        },
        "id": "maem_qwIuB2_",
        "outputId": "ed03f5fa-39d1-483b-e750-102a2df5f499"
      },
      "outputs": [
        {
          "output_type": "stream",
          "name": "stdout",
          "text": [
            "C Major Scale:\n",
            "Intervals:  0,2,4,5,7,9,11\n",
            "Half-steps: 2.0-2.0-1.0-2.0-2.0-2.0\n",
            "Notes:      C,D,E,F,G,A,B\n"
          ]
        }
      ],
      "source": [
        "import numpy as np\n",
        "\n",
        "def generate_12_tet_scale(base_frequency=440.0):\n",
        "    \"\"\"\n",
        "    Generate a 12-tone equal temperament scale.\n",
        "\n",
        "    Parameters:\n",
        "        base_frequency (float): The base frequency for A4 (default is 440 Hz).\n",
        "\n",
        "    Returns:\n",
        "        list: A list of frequencies for one octave in 12-TET.\n",
        "    \"\"\"\n",
        "    scale = [base_frequency * (2 ** (i / 12)) for i in range(12)]\n",
        "    return scale\n",
        "\n",
        "def get_scale_intervals(scale_type):\n",
        "    \"\"\"\n",
        "    Get the intervals for different scale types.\n",
        "\n",
        "    Parameters:\n",
        "        scale_type (str): The type of scale (e.g., 'major', 'minor', etc.).\n",
        "\n",
        "    Returns:\n",
        "        list: A list of intervals (in semitones) for the specified scale type.\n",
        "    \"\"\"\n",
        "    scales = {\n",
        "        \"major\": [0, 2, 4, 5, 7, 9, 11],\n",
        "        \"minor\": [0, 2, 3, 5, 7, 8, 10],\n",
        "        \"natural_minor\": [0, 2, 3, 5, 7, 8, 10],\n",
        "        \"harmonic_minor\": [0, 2, 3, 5, 7, 8, 11],\n",
        "        \"melodic_minor_asc\": [0, 2, 3, 5, 7, 9, 11],\n",
        "        \"melodic_minor_desc\": [0, 2, 3, 5, 7, 8, 10],\n",
        "        \"major_pentatonic\": [0, 2, 4, 7, 9],\n",
        "        \"minor_pentatonic\": [0, 3, 5, 7, 10],\n",
        "        \"ionian\": [0, 2, 4, 5, 7, 9, 11],\n",
        "        \"dorian\": [0, 2, 3, 5, 7, 9, 10],\n",
        "        \"phrygian\": [0, 1, 3, 5, 7, 8, 10],\n",
        "        \"lydian\": [0, 2, 4, 6, 7, 9, 11],\n",
        "        \"mixolydian\": [0, 2, 4, 5, 7, 9, 10],\n",
        "        \"aeolian\": [0, 2, 3, 5, 7, 8, 10],\n",
        "        \"locrian\": [0, 1, 3, 5, 6, 8, 10]\n",
        "    }\n",
        "    return scales.get(scale_type, [])\n",
        "\n",
        "def generate_scale(base_note, base_frequency=440.0, scale_type=\"major\"):\n",
        "    \"\"\"\n",
        "    Generate a specific scale based on the base note and scale type.\n",
        "\n",
        "    Parameters:\n",
        "        base_note (str): The base note (e.g., 'A', 'C').\n",
        "        base_frequency (float): The frequency of A4 (default is 440 Hz).\n",
        "        scale_type (str): The type of scale to generate.\n",
        "\n",
        "    Returns:\n",
        "        list: A list of frequencies for the specified scale.\n",
        "    \"\"\"\n",
        "    # Define both chromatic scales\n",
        "    sharp_chromatic_scale = [\"C\", \"C#\", \"D\", \"D#\", \"E\", \"F\", \"F#\", \"G\", \"G#\", \"A\", \"A#\", \"B\"]\n",
        "    flat_chromatic_scale = [\"C\", \"Db\", \"D\", \"Eb\", \"E\", \"F\", \"Gb\", \"G\", \"Ab\", \"A\", \"Bb\", \"B\"]\n",
        "\n",
        "    # Select the chromatic scale based on the root note\n",
        "    chromatic_scale = flat_chromatic_scale if \"b\" in base_note or base_note == \"F\" else sharp_chromatic_scale\n",
        "\n",
        "    # Normalize base note to match the selected chromatic scale\n",
        "    flat_to_sharp = {\"Db\": \"C#\", \"Eb\": \"D#\", \"Gb\": \"F#\", \"Ab\": \"G#\", \"Bb\": \"A#\"}\n",
        "    sharp_to_flat = {v: k for k, v in flat_to_sharp.items()}\n",
        "\n",
        "    if base_note in flat_to_sharp:\n",
        "        base_note = flat_to_sharp[base_note] if chromatic_scale == sharp_chromatic_scale else base_note\n",
        "    elif base_note in sharp_to_flat:\n",
        "        base_note = sharp_to_flat[base_note] if chromatic_scale == flat_chromatic_scale else base_note\n",
        "\n",
        "    # Find root index and calculate base frequency\n",
        "    base_index = chromatic_scale.index(base_note)\n",
        "    a4_index = sharp_chromatic_scale.index(\"A\")  # A4 as reference\n",
        "    semitone_diff = base_index - a4_index\n",
        "    base_note_frequency = base_frequency * (2 ** (semitone_diff / 12))\n",
        "\n",
        "    # Generate the scale frequencies\n",
        "    intervals = get_scale_intervals(scale_type)\n",
        "    scale = [base_note_frequency * (2 ** (i / 12)) for i in intervals]\n",
        "    notes = [chromatic_scale[(base_index + i) % 12] for i in intervals]\n",
        "    return scale, notes\n",
        "\n",
        "def display_scale(scale, notes, scale_type, base_note):\n",
        "    \"\"\"\n",
        "    Display the scale in a readable format with intervals and notes.\n",
        "\n",
        "    Parameters:\n",
        "        scale (list): The list of frequencies to display.\n",
        "        notes (list): The list of notes corresponding to the frequencies.\n",
        "        scale_type (str): The type of scale to display.\n",
        "        base_note (str): The base note of the scale.\n",
        "\n",
        "    Returns:\n",
        "        None\n",
        "    \"\"\"\n",
        "    intervals = \"-\".join([str(round((12 * np.log2(scale[i + 1] / scale[i])), 1)) for i in range(len(scale) - 1)])\n",
        "    print(f\"{base_note} {scale_type.replace('_', ' ').capitalize()} Scale:\")\n",
        "    print(f\"Intervals:  {','.join(map(str, get_scale_intervals(scale_type)))}\")\n",
        "    print(f\"Half-steps: {intervals}\")\n",
        "    print(f\"Notes:      {','.join(notes)}\")\n",
        "\n",
        "# Example usage\n",
        "base_note = \"C\"\n",
        "scale_type = \"major\"\n",
        "scale, notes = generate_scale(base_note, base_frequency=440.0, scale_type=scale_type)\n",
        "display_scale(scale, notes, scale_type, base_note)\n"
      ]
    }
  ]
}