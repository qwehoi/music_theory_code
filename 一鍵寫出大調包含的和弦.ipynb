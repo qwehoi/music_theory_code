# 定義音符名稱
SHARP_NOTES = ['C', 'C#', 'D', 'D#', 'E', 'F', 'F#', 'G', 'G#', 'A', 'A#', 'B']
FLAT_NOTES = ['C', 'Db', 'D', 'Eb', 'E', 'F', 'Gb', 'G', 'Ab', 'A', 'Bb', 'B']

# 定義大調的音程結構（全全半全全全半）
MAJOR_SCALE_INTERVALS = [2, 2, 1, 2, 2, 2, 1]

# 定義和弦類型
CHORD_TYPES = ['major', 'minor', 'minor', 'major', 'major', 'minor', 'diminished']

# 和弦音程對應的半音距離
CHORD_INTERVALS = {
    'major': [0, 4, 7],
    'minor': [0, 3, 7],
    'diminished': [0, 3, 6],
    'augmented': [0, 4, 8],
    'dominant7': [0, 4, 7, 10],
    'major7': [0, 4, 7, 11],
    'minor7': [0, 3, 7, 10],
    'half-diminished7': [0, 3, 6, 10],
    'diminished7': [0, 3, 6, 9],
    'minor6': [0, 3, 7, 9],
    'major6': [0, 4, 7, 9],
    'minor9': [0, 3, 7, 10, 14],
    'major9': [0, 4, 7, 11, 14],
    'dominant9': [0, 4, 7, 10, 14],
    'suspended2': [0, 2, 7],
    'suspended4': [0, 5, 7],
    'add9': [0, 4, 7, 14],
    'minor11': [0, 3, 7, 10, 14, 17],
    'major11': [0, 4, 7, 11, 14, 17],
    'dominant11': [0, 4, 7, 10, 14, 17],
    'minor13': [0, 3, 7, 10, 14, 17, 21],
    'major13': [0, 4, 7, 11, 14, 17, 21],
    'dominant13': [0, 4, 7, 10, 14, 17, 21]
}

def get_scale_notes(root_note, use_sharps=True):
    """根據根音獲取大調的音階音符，並選擇使用升號或降號"""
    if use_sharps:
        notes = SHARP_NOTES
    else:
        notes = FLAT_NOTES
    # 將根音轉換為大寫，但保留 # 和 b
    root_note_upper = root_note[0].upper() + (root_note[1:] if len(root_note) > 1 else '')
    root_index = notes.index(root_note_upper)
    scale_notes = []
    current_index = root_index
    for interval in MAJOR_SCALE_INTERVALS:
        scale_notes.append(notes[current_index % 12])
        current_index += interval
    return scale_notes

def get_chord_name(root_note, chord_type):
    """根據根音和和弦類型生成和弦名稱，保留 # 和 b"""
    # 保留 # 和 b 的原始大小寫
    root_note_upper = root_note[0].upper() + (root_note[1:] if len(root_note) > 1 else '')
    if chord_type == 'major':
        return root_note_upper
    elif chord_type == 'minor':
        return root_note_upper + 'm'
    elif chord_type == 'diminished':
        return root_note_upper + 'dim'
    elif chord_type == 'augmented':
        return root_note_upper + 'aug'
    elif chord_type.endswith('7'):
        return root_note_upper + chord_type.replace('7', '7')
    else:
        return root_note_upper

def get_chord_details(root_note, chord_type, use_sharps):
    """生成和弦詳細資訊，包括名稱、音程、半音步長和音符"""
    if use_sharps:
        notes = SHARP_NOTES
    else:
        notes = FLAT_NOTES

    root_index = notes.index(root_note)
    intervals = CHORD_INTERVALS[chord_type]
    chord_notes = [notes[(root_index + interval) % 12] for interval in intervals]

    # 計算半音步長
    half_steps = [intervals[i] - intervals[i - 1] for i in range(1, len(intervals))]

    # 格式化輸出
    chord_name = get_chord_name(root_note, chord_type)
    details = (
        f"{chord_name}  {chord_type.capitalize()}\n"
        f"a.k.a.:     {root_note}, {root_note}{chord_type.capitalize()}, {root_note}{chord_type[0].upper()}\n"
        f"intervals:  {','.join(map(str, [1, 3, 5]))}\n"
        f"half-steps: {'-'.join(map(str, half_steps))}\n"
        f"notes:      {','.join(chord_notes)}\n"
    )
    return details

def get_chords_in_key(root_note):
    """根據調性獲取所有和弦，並格式化輸出詳細資訊"""
    # 判斷調性使用升號還是降號
    sharp_keys = ['C', 'G', 'D', 'A', 'E', 'B', 'F#']
    flat_keys = ['F', 'Bb', 'Eb', 'Ab', 'Db', 'Gb']
    if root_note.upper() in [key.upper() for key in sharp_keys]:
        use_sharps = True
    elif root_note.upper() in [key.upper() for key in flat_keys]:
        use_sharps = False
    else:
        raise ValueError(f"Invalid root note: {root_note}")

    # 獲取音階音符
    scale_notes = get_scale_notes(root_note, use_sharps)

    # 生成和弦詳細資訊
    chords_details = []
    for i in range(len(scale_notes)):
        details = get_chord_details(scale_notes[i], CHORD_TYPES[i], use_sharps)
        chords_details.append(details)
    return chords_details

# 示例使用
root_note = 'C'  # 調性為 C Major
chords = get_chords_in_key(root_note)
for chord in chords:
    print(chord)

# 測試 Bb 大調
root_note = 'Bb'
chords = get_chords_in_key(root_note)
for chord in chords:
    print(chord)
