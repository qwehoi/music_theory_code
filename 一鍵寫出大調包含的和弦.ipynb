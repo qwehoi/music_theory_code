# 定義音符名稱
SHARP_NOTES = ['C', 'C#', 'D', 'D#', 'E', 'F', 'F#', 'G', 'G#', 'A', 'A#', 'B']
FLAT_NOTES = ['C', 'Db', 'D', 'Eb', 'E', 'F', 'Gb', 'G', 'Ab', 'A', 'Bb', 'B']

# 定義大調的音程結構（全全半全全全半）
MAJOR_SCALE_INTERVALS = [2, 2, 1, 2, 2, 2, 1]

# 定義和弦類型
CHORD_TYPES = ['major', 'minor', 'minor', 'major', 'major', 'minor', 'diminished']

def get_scale_notes(root_note, use_sharps=True):
    """根據根音獲取大調的音階音符，並選擇使用升號或降號"""
    if use_sharps:
        notes = SHARP_NOTES
    else:
        notes = FLAT_NOTES
    # 將根音轉換為大寫，但保留 # 和 b
    root_note_upper = root_note[0].upper() + (root_note[1:] if len(root_note) > 1 else '')
    root_index = notes.index(root_note_upper)
    scale_notes = []
    current_index = root_index
    for interval in MAJOR_SCALE_INTERVALS:
        scale_notes.append(notes[current_index % 12])
        current_index += interval
    return scale_notes

def get_chord_name(root_note, chord_type):
    """根據根音和和弦類型生成和弦名稱，保留 # 和 b"""
    # 保留 # 和 b 的原始大小寫
    root_note_upper = root_note[0].upper() + (root_note[1:] if len(root_note) > 1 else '')
    if chord_type == 'major':
        return root_note_upper
    elif chord_type == 'minor':
        return root_note_upper + 'm'
    elif chord_type == 'diminished':
        return root_note_upper + 'dim'
    else:
        return root_note_upper

def get_chords_in_key(root_note):
    """根據調性獲取所有和弦，並選擇正確的音符命名規則"""
    # 判斷調性使用升號還是降號
    sharp_keys = ['C', 'G', 'D', 'A', 'E', 'B', 'F#']
    flat_keys = ['F', 'Bb', 'Eb', 'Ab', 'Db', 'Gb']
    if root_note.upper() in [key.upper() for key in sharp_keys]:
        use_sharps = True
    elif root_note.upper() in [key.upper() for key in flat_keys]:
        use_sharps = False
    else:
        raise ValueError(f"Invalid root note: {root_note}")

    # 獲取音階音符
    scale_notes = get_scale_notes(root_note, use_sharps)

    # 生成和弦名稱
    chords = []
    for i in range(len(scale_notes)):
        chord_name = get_chord_name(scale_notes[i], CHORD_TYPES[i])
        chords.append(chord_name)
    return chords

# 示例使用
root_note = 'E'  # 調性為 F Major
chords = get_chords_in_key(root_note)
print(' '.join(chords))  # 輸出：F Gm Am Bb C Dm Edim

# 測試 Bb 大調
root_note = 'Ab'
chords = get_chords_in_key(root_note)
print(' '.join(chords))  # 輸出：Bb Cm Dm Eb F Gm Adim
